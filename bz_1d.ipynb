{
 "cells": [
  {
   "cell_type": "markdown",
   "metadata": {
    "hidePrompt": true
   },
   "source": [
    "# Intégration partiellement implicite\n",
    "\n",
    "### Système de Belousov-Zhabotinski (2 équations) \n",
    "\n",
    "\\begin{equation} \n",
    "\\left\\{ \n",
    "\\begin{aligned} \n",
    "& \\partial_t b - D_b \\, \\partial_{xx} b =  \\frac{1}{\\epsilon} \\biggl( \\frac{f(q-b)c}{q+b} + b\\,(1-b)\\biggl) \\\\ \n",
    "& \\partial_t c - D_c \\, \\partial_{xx} c =  b - c \n",
    "\\end{aligned} \n",
    "\\right.  \n",
    "\\end{equation}\n",
    "\n",
    "### Système de Belousov-Zhabotinski (3 équations) \n",
    "\n",
    "\\begin{equation}\n",
    "\\left\\{\n",
    "\\begin{aligned}\n",
    "& \\partial_t a - D_a \\, \\partial_{xx} a =  \\frac{1}{\\mu} ( -qa - ab + fc), \\\\\n",
    "& \\partial_t b - D_b \\, \\partial_{xx} b =  \\frac{1}{\\varepsilon} ( qa - ab + b\\,(1-b)), \\\\\n",
    "& \\partial_t c - D_c \\, \\partial_{xx} c =  b - c.\n",
    "\\end{aligned}\n",
    "\\right.\n",
    "\\end{equation}"
   ]
  },
  {
   "cell_type": "code",
   "execution_count": null,
   "metadata": {},
   "outputs": [],
   "source": [
    "%%bash\n",
    "\n",
    "# define input paramaters\n",
    "neq=3\n",
    "tini=0.0\n",
    "tend=2.0\n",
    "nt=10001\n",
    "xmin=0.0\n",
    "xmax=2.0\n",
    "nx=1001\n",
    "method=imex_rk_2_3\n",
    "tol=1.e-12\n",
    "create_ref_sol=0\n",
    "\n",
    "# go to run directory\n",
    "cd /home/jovyan/fortran/bz_1d/run\n",
    "\n",
    "# edit input file\n",
    "cat > input.dat <<- EOF\n",
    "$neq\n",
    "$tini\n",
    "$tend\n",
    "$nt\n",
    "$xmin\n",
    "$xmax\n",
    "$nx\n",
    "$method\n",
    "$tol\n",
    "$create_ref_sol\n",
    "EOF\n",
    "\n",
    "# launch program\n",
    "export LD_LIBRARY_PATH=/srv/conda/lib/\n",
    "./bz_1d"
   ]
  },
  {
   "cell_type": "code",
   "execution_count": null,
   "metadata": {
    "hidePrompt": true
   },
   "outputs": [],
   "source": [
    "import numpy as np\n",
    "import os\n",
    "from bokeh.io import push_notebook, show, output_notebook\n",
    "from bokeh.plotting import figure\n",
    "from bokeh.layouts import column\n",
    "\n",
    "from mylib.readfile import read_sol\n",
    "\n",
    "output_notebook(hide_banner=True)"
   ]
  },
  {
   "cell_type": "code",
   "execution_count": null,
   "metadata": {},
   "outputs": [],
   "source": [
    "%cd -q /home/jovyan/fortran/bz_1d/run\n",
    "\n",
    "def plot_sol():\n",
    "    \n",
    "    if os.path.exists(\"sol_ref.dat\"):\n",
    "        _, _, _, sol_ref = read_sol(\"sol_ref.dat\")\n",
    "\n",
    "    model, t, x, sol = read_sol(\"sol_num.dat\")\n",
    "\n",
    "    fig_sol_a = figure(plot_height=300, plot_width=900)\n",
    "    fig_sol_b = figure(plot_height=300, plot_width=900)\n",
    "    fig_sol_c = figure(plot_height=300, plot_width=900)        \n",
    "\n",
    "    if model==2:\n",
    "        fig_sol_b.x(x, sol[0], legend=\"sol at t = {:4.2f}\".format(t))\n",
    "        fig_sol_c.x(x, sol[1], legend=\"sol at t = {:4.2f}\".format(t))\n",
    "        if os.path.exists(\"sol_ref.dat\"):\n",
    "            fig_sol_b.line(x, sol_ref[0], legend=\"ref sol at t = {:4.2f}\".format(t), color=\"crimson\")\n",
    "            fig_sol_c.line(x, sol_ref[1], legend=\"ref sol at t = {:4.2f}\".format(t), color=\"crimson\")\n",
    "        show(column(fig_sol_b, fig_sol_c))            \n",
    "            \n",
    "    elif model==3: \n",
    "        #fig_sol_a.x(x, sol[0], legend=\"sol at t = {:4.2f}\".format(t))\n",
    "        #fig_sol_b.x(x, sol[1], legend=\"sol at t = {:4.2f}\".format(t))\n",
    "        #fig_sol_c.x(x, sol[2], legend=\"sol at t = {:4.2f}\".format(t))\n",
    "        if os.path.exists(\"sol_ref.dat\"):\n",
    "            fig_sol_a.line(x, sol_ref[0], legend=\"ref sol at t = {:4.2f}\".format(t), color=\"crimson\")\n",
    "            fig_sol_b.line(x, sol_ref[1], legend=\"ref sol at t = {:4.2f}\".format(t), color=\"crimson\")\n",
    "            fig_sol_c.line(x, sol_ref[2], legend=\"ref sol at t = {:4.2f}\".format(t), color=\"crimson\")\n",
    "        show(column(fig_sol_a, fig_sol_b, fig_sol_c))\n",
    "    \n",
    "plot_sol()"
   ]
  }
 ],
 "metadata": {
  "kernelspec": {
   "display_name": "Python 3",
   "language": "python",
   "name": "python3"
  },
  "language_info": {
   "codemirror_mode": {
    "name": "ipython",
    "version": 3
   },
   "file_extension": ".py",
   "mimetype": "text/x-python",
   "name": "python",
   "nbconvert_exporter": "python",
   "pygments_lexer": "ipython3",
   "version": "3.7.2"
  }
 },
 "nbformat": 4,
 "nbformat_minor": 2
}
